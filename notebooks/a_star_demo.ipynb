{
 "cells": [
  {
   "cell_type": "markdown",
   "metadata": {},
   "source": [
    "# A* Planner Demo\n",
    "\n",
    "This notebook demonstrates how to use `AStarPlanner` with a simple occupancy grid."
   ]
  },
  {
   "cell_type": "code",
   "metadata": {},
   "execution_count": null,
   "outputs": [],
   "source": [
    "import numpy as np\n",
    "from path_planner import AStarPlanner\n",
    "from path_planner.utils import plot_map, plot_path\n",
    "import matplotlib.pyplot as plt\n",
    "\n",
    "# Create simple 10x10 grid with an obstacle wall\n",
    "grid = np.zeros((10, 10), dtype=int)\n",
    "grid[5, 1:8] = 1\n",
    "start = (2, 2)\n",
    "goal = (8, 8)\n",
    "\n",
    "planner = AStarPlanner()\n",
    "path = planner.plan(start, goal, grid)\n",
    "\n",
    "plt.figure(figsize=(5,5))\n",
    "plot_map(grid)\n",
    "plot_path(path)\n",
    "plt.show()\n",
    "print(\"Path:\", path)\n"
   ]
  }
 ],
 "metadata": {
  "kernelspec": {
   "display_name": "Python 3",
   "language": "python",
   "name": "python3"
  },
  "language_info": {
   "name": "python",
   "pygments_lexer": "ipython3"
  }
 },
 "nbformat": 4,
 "nbformat_minor": 4
}
